{
 "cells": [
  {
   "cell_type": "markdown",
   "metadata": {},
   "source": [
    "## Combinando Declarações Condicionais e Funções"
   ]
  },
  {
   "cell_type": "markdown",
   "metadata": {},
   "source": [
    "\n",
    "Seguem as respostas sugeridas (geralmente existem várias maneiras de resolver um problema em Python)."
   ]
  },
  {
   "cell_type": "markdown",
   "metadata": {},
   "source": [
    "Defina uma função, chamada compare_as_duas (), com dois argumentos. Se o primeiro for maior que o segundo, deixe imprimir \"Maior\". Se o segundo for maior, deve imprimir \"Menos\". Deixe imprimir \"Igual\" se os dois valores forem o mesmo número."
   ]
  },
  {
   "cell_type": "code",
   "execution_count": 8,
   "metadata": {},
   "outputs": [],
   "source": [
    "def compare_as_duas(x,y):\n",
    "    if x > y: \n",
    "        print (\"Maior\")\n",
    "    elif x < y:\n",
    "        print (\"Menos\")\n",
    "    else:\n",
    "        print (\"igual\")"
   ]
  },
  {
   "cell_type": "code",
   "execution_count": 10,
   "metadata": {},
   "outputs": [
    {
     "name": "stdout",
     "output_type": "stream",
     "text": [
      "igual\n"
     ]
    }
   ],
   "source": [
    "compare_as_duas(10,10)"
   ]
  },
  {
   "cell_type": "code",
   "execution_count": null,
   "metadata": {},
   "outputs": [],
   "source": []
  }
 ],
 "metadata": {
  "anaconda-cloud": {},
  "kernelspec": {
   "display_name": "Python 3.10.6 64-bit (microsoft store)",
   "language": "python",
   "name": "python3"
  },
  "language_info": {
   "codemirror_mode": {
    "name": "ipython",
    "version": 3
   },
   "file_extension": ".py",
   "mimetype": "text/x-python",
   "name": "python",
   "nbconvert_exporter": "python",
   "pygments_lexer": "ipython3",
   "version": "3.10.6"
  },
  "vscode": {
   "interpreter": {
    "hash": "454d780916b58f5a07c5c33bb3c36fe688ada07f1ef8a3f45993aaf8b37aba5a"
   }
  }
 },
 "nbformat": 4,
 "nbformat_minor": 1
}
