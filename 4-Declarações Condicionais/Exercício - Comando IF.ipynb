{
 "cells": [
  {
   "cell_type": "markdown",
   "metadata": {},
   "source": [
    "## Comando IF"
   ]
  },
  {
   "cell_type": "markdown",
   "metadata": {},
   "source": [
    "\n",
    "Seguem as respostas sugeridas (geralmente existem várias maneiras de resolver um problema em Python)."
   ]
  },
  {
   "cell_type": "markdown",
   "metadata": {},
   "source": [
    "\n",
    "Crie um código de duas linhas que imprima \"Só o amor constroi pontes indestrutíveis\" se 27 for maior que 9."
   ]
  },
  {
   "cell_type": "code",
   "execution_count": 1,
   "metadata": {},
   "outputs": [
    {
     "name": "stdout",
     "output_type": "stream",
     "text": [
      "Só o amor constroi pontes indestrutíveis\n"
     ]
    }
   ],
   "source": [
    "if 27>9:\n",
    "    print('Só o amor constroi pontes indestrutíveis')"
   ]
  },
  {
   "cell_type": "markdown",
   "metadata": {},
   "source": [
    "Atribua 12 à variável x e 21 à variável y. Na mesma célula, crie 2 declarações condicionais. Deixe o primeiro imprimir \"Ambas as condições estão corretas\" se x for maior que 3 ey for maior que 13. Deixe o segundo imprimir \"Pelo menos uma das condições é falsa\" se x for menor ou igual a 3 ou y é menor ou igual a 13. Altere os valores atribuídos a xey e execute novamente a célula para verificar se seu código ainda funciona."
   ]
  },
  {
   "cell_type": "code",
   "execution_count": 15,
   "metadata": {},
   "outputs": [
    {
     "name": "stdout",
     "output_type": "stream",
     "text": [
      "Ambas as condições estão corretas\n"
     ]
    }
   ],
   "source": [
    "x=12\n",
    "y=21\n",
    "\n",
    "if x>3 and y>13:\n",
    "    print('Ambas as condições estão corretas')\n",
    "if x <=3 or y<=13:\n",
    "    print('Pelo menos uma das condições é falsa') "
   ]
  },
  {
   "cell_type": "code",
   "execution_count": null,
   "metadata": {},
   "outputs": [],
   "source": []
  }
 ],
 "metadata": {
  "anaconda-cloud": {},
  "kernelspec": {
   "display_name": "Python 3.10.6 64-bit (windows store)",
   "language": "python",
   "name": "python3"
  },
  "language_info": {
   "codemirror_mode": {
    "name": "ipython",
    "version": 3
   },
   "file_extension": ".py",
   "mimetype": "text/x-python",
   "name": "python",
   "nbconvert_exporter": "python",
   "pygments_lexer": "ipython3",
   "version": "3.10.6"
  },
  "vscode": {
   "interpreter": {
    "hash": "454d780916b58f5a07c5c33bb3c36fe688ada07f1ef8a3f45993aaf8b37aba5a"
   }
  }
 },
 "nbformat": 4,
 "nbformat_minor": 1
}
