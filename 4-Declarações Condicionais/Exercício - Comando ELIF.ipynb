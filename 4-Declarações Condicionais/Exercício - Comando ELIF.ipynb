{
 "cells": [
  {
   "cell_type": "markdown",
   "metadata": {},
   "source": [
    "## Comando- ELIF"
   ]
  },
  {
   "cell_type": "markdown",
   "metadata": {},
   "source": [
    "\n",
    "Seguem as respostas sugeridas (geralmente existem várias maneiras de resolver um problema em Python)."
   ]
  },
  {
   "cell_type": "markdown",
   "metadata": {},
   "source": [
    "\n",
    "Atribua 200 a variavel x. Crie o seguinte trecho de código: Se x> 150, imprima \"Grande\"; Se x> 100 e x <= 150, imprima \"Médio\"; e se x <= 100, imprima \"Pequeno\". Use as palavras-chave If, ​​Elif e Else em seu código.\n",
    "\n",
    "Altere o valor inicial de x para ver como sua saída irá variar."
   ]
  },
  {
   "cell_type": "code",
   "execution_count": 9,
   "metadata": {
    "scrolled": true
   },
   "outputs": [
    {
     "name": "stdout",
     "output_type": "stream",
     "text": [
      "Grande\n"
     ]
    }
   ],
   "source": [
    "x=200\n",
    "\n",
    "if x>150:\n",
    "    print('Grande')\n",
    "elif x>100 and x<=150:\n",
    "    print('Médio')\n",
    "else:\n",
    "    print('Pequeno')"
   ]
  },
  {
   "cell_type": "markdown",
   "metadata": {},
   "source": [
    "Mantenha as duas primeiras condições do código anterior. Adicione uma nova instrução ELIF, de modo que, eventualmente, o programa imprima \"Pequeno\" se x> = 0 e x <= 100, e \"Negativo\" se x <0. Deixe x levar o valor de 50 e depois de -50 para verifique se o seu código está correto."
   ]
  },
  {
   "cell_type": "code",
   "execution_count": 18,
   "metadata": {},
   "outputs": [
    {
     "name": "stdout",
     "output_type": "stream",
     "text": [
      "pequeno\n"
     ]
    }
   ],
   "source": [
    "x=50\n",
    "\n",
    "if x>150:\n",
    "    print('Grande')\n",
    "elif x>100 and x<=150:\n",
    "    print('Médio')\n",
    "elif x>=0 and x<=100:\n",
    "    print('pequeno')\n",
    "else:\n",
    "    print('Negativo')"
   ]
  },
  {
   "cell_type": "code",
   "execution_count": 14,
   "metadata": {},
   "outputs": [
    {
     "name": "stdout",
     "output_type": "stream",
     "text": [
      "Negativo\n"
     ]
    }
   ],
   "source": [
    "x=-50\n",
    "\n",
    "if x>150:\n",
    "    print('Grande')\n",
    "elif x>100 and x<=150:\n",
    "    print('Médio')\n",
    "elif x>=0 and x<=100:\n",
    "    print('pequeno')\n",
    "else:\n",
    "    print('Negativo')"
   ]
  },
  {
   "cell_type": "code",
   "execution_count": null,
   "metadata": {},
   "outputs": [],
   "source": []
  }
 ],
 "metadata": {
  "anaconda-cloud": {},
  "kernelspec": {
   "display_name": "Python 3.10.6 64-bit (windows store)",
   "language": "python",
   "name": "python3"
  },
  "language_info": {
   "codemirror_mode": {
    "name": "ipython",
    "version": 3
   },
   "file_extension": ".py",
   "mimetype": "text/x-python",
   "name": "python",
   "nbconvert_exporter": "python",
   "pygments_lexer": "ipython3",
   "version": "3.10.6"
  },
  "vscode": {
   "interpreter": {
    "hash": "454d780916b58f5a07c5c33bb3c36fe688ada07f1ef8a3f45993aaf8b37aba5a"
   }
  }
 },
 "nbformat": 4,
 "nbformat_minor": 1
}
